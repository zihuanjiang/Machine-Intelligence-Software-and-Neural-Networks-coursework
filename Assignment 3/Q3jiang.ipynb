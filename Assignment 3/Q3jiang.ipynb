{
  "nbformat": 4,
  "nbformat_minor": 0,
  "metadata": {
    "colab": {
      "provenance": []
    },
    "kernelspec": {
      "name": "python3",
      "display_name": "Python 3"
    },
    "language_info": {
      "name": "python"
    }
  },
  "cells": [
    {
      "cell_type": "code",
      "source": [
        "from __future__ import absolute_import, division, print_function\n",
        "import tensorflow as tf\n",
        "from tensorflow import keras\n",
        "import pandas as pd\n",
        "import numpy as np\n",
        "import matplotlib.pyplot as plt\n",
        "from sklearn.model_selection import train_test_split\n",
        "from sklearn.utils import shuffle"
      ],
      "metadata": {
        "id": "SPjK71AvIGk6"
      },
      "execution_count": 2,
      "outputs": []
    },
    {
      "cell_type": "markdown",
      "source": [
        "Create a matrix with 7 columns.\n",
        "Put the original data in column indices: 1 to 4."
      ],
      "metadata": {
        "id": "d3n48CQSvn7r"
      }
    },
    {
      "cell_type": "code",
      "source": [
        "data=pd.read_csv('banknote.csv', delimiter=\",\")\n",
        "matrix=data.to_numpy()\n",
        "\n",
        "print(matrix.shape)\n",
        "\n",
        "x = np.zeros((1371,7))\n",
        "\n",
        "x[:,1:5] = matrix[:,0:4]\n",
        "t = matrix[:,4]\n",
        "\n",
        "print(x[0:3,:])\n",
        "print(t[0:3])"
      ],
      "metadata": {
        "id": "bQqKTjp4IQgN",
        "colab": {
          "base_uri": "https://localhost:8080/"
        },
        "outputId": "ff70f568-0f83-471d-fa13-62bb8c7ac437"
      },
      "execution_count": 3,
      "outputs": [
        {
          "output_type": "stream",
          "name": "stdout",
          "text": [
            "(1371, 5)\n",
            "[[ 0.       4.5459   8.1674  -2.4586  -1.4621   0.       0.     ]\n",
            " [ 0.       3.866   -2.6383   1.9242   0.10645  0.       0.     ]\n",
            " [ 0.       3.4566   9.5228  -4.0112  -3.5944   0.       0.     ]]\n",
            "[0. 0. 0.]\n"
          ]
        }
      ]
    },
    {
      "cell_type": "code",
      "source": [
        "for i in range(1,5):\n",
        "        xMax=max(x[:,i])\n",
        "        xMin=min(x[:,i])\n",
        "        x[:,i] = 1 + (x[:,i] - xMin)/(xMax - xMin)\n",
        "\n",
        "print(x[0:3,:])"
      ],
      "metadata": {
        "id": "ww0MUySmIXpL",
        "colab": {
          "base_uri": "https://localhost:8080/"
        },
        "outputId": "2ec9d8ea-bfee-4e84-ddd3-18223ba5e05c"
      },
      "execution_count": 4,
      "outputs": [
        {
          "output_type": "stream",
          "name": "stdout",
          "text": [
            "[[0.         1.83565902 1.82098209 1.12180412 1.64432563 0.\n",
            "  0.        ]\n",
            " [0.         1.78662859 1.41664827 1.31060805 1.78695091 0.\n",
            "  0.        ]\n",
            " [0.         1.75710505 1.87169921 1.05492063 1.45043964 0.\n",
            "  0.        ]]\n"
          ]
        }
      ]
    },
    {
      "cell_type": "markdown",
      "source": [
        "Include a code cell to create random numbers in [1, 2} and put them in column inideces 0, 5 and 6."
      ],
      "metadata": {
        "id": "py-u3OxfwFJO"
      }
    },
    {
      "cell_type": "code",
      "source": [
        "x[:, [0, 5, 6]] = np.random.uniform(1, 2, size=(len(x), 3))\n",
        "\n",
        "print(x[0:3,:])"
      ],
      "metadata": {
        "colab": {
          "base_uri": "https://localhost:8080/"
        },
        "id": "-GwQLd8AhMoj",
        "outputId": "3f603b5e-ddde-4732-fcef-18a143b1a97a"
      },
      "execution_count": 5,
      "outputs": [
        {
          "output_type": "stream",
          "name": "stdout",
          "text": [
            "[[1.08352686 1.83565902 1.82098209 1.12180412 1.64432563 1.63212292\n",
            "  1.46342282]\n",
            " [1.91407479 1.78662859 1.41664827 1.31060805 1.78695091 1.41184303\n",
            "  1.67748523]\n",
            " [1.67161393 1.75710505 1.87169921 1.05492063 1.45043964 1.69886893\n",
            "  1.79223314]]\n"
          ]
        }
      ]
    },
    {
      "cell_type": "code",
      "source": [
        "xx, tt = shuffle(x, t)\n",
        "print(xx[0:3,:])\n",
        "\n",
        "train_data, test_data, train_labels, test_labels = train_test_split(xx, tt, test_size=0.3)  ### Do not change.\n",
        "\n",
        "print(train_data.shape)\n",
        "\n",
        "class_names = ['good', 'bad']"
      ],
      "metadata": {
        "id": "btMgAuzyIlso",
        "colab": {
          "base_uri": "https://localhost:8080/"
        },
        "outputId": "2191ef93-33bd-4abc-91ff-dd0618ebe92d"
      },
      "execution_count": 6,
      "outputs": [
        {
          "output_type": "stream",
          "name": "stdout",
          "text": [
            "[[1.14977386 1.41714442 1.57483526 1.52960131 1.81587514 1.52033864\n",
            "  1.6026447 ]\n",
            " [1.62685373 1.79921251 1.53464922 1.2719969  1.87783809 1.03508623\n",
            "  1.6272498 ]\n",
            " [1.60383952 1.25175778 1.58629657 1.23575075 1.5553252  1.24027198\n",
            "  1.58970391]]\n",
            "(959, 7)\n"
          ]
        }
      ]
    },
    {
      "cell_type": "code",
      "source": [
        "firstLayerNeurons=3000   ##### Do not chnage.\n",
        "\n",
        "model = keras.Sequential([\n",
        "    keras.layers.Dense(firstLayerNeurons, activation=tf.nn.relu, input_shape=(7,)),\n",
        "    keras.layers.Dense(1, activation=tf.nn.sigmoid)\n",
        "])"
      ],
      "metadata": {
        "id": "dohLjkh-Isln"
      },
      "execution_count": 7,
      "outputs": []
    },
    {
      "cell_type": "code",
      "source": [
        "##### Do not change.\n",
        "model.compile(optimizer='adam',\n",
        "              loss='binary_crossentropy',\n",
        "              metrics=['accuracy'])"
      ],
      "metadata": {
        "id": "wdAAbcHdJVjO"
      },
      "execution_count": 8,
      "outputs": []
    },
    {
      "cell_type": "code",
      "execution_count": 9,
      "metadata": {
        "id": "RJv_SjqwH90P",
        "colab": {
          "base_uri": "https://localhost:8080/"
        },
        "outputId": "078ced61-8852-4aeb-9ec0-7d8ca9996a11"
      },
      "outputs": [
        {
          "output_type": "stream",
          "name": "stdout",
          "text": [
            "Epoch 1/40\n",
            "30/30 [==============================] - 1s 3ms/step - loss: 0.6628 - accuracy: 0.6163\n",
            "Epoch 2/40\n",
            "30/30 [==============================] - 0s 3ms/step - loss: 0.6014 - accuracy: 0.7289\n",
            "Epoch 3/40\n",
            "30/30 [==============================] - 0s 3ms/step - loss: 0.5541 - accuracy: 0.7466\n",
            "Epoch 4/40\n",
            "30/30 [==============================] - 0s 2ms/step - loss: 0.5169 - accuracy: 0.7654\n",
            "Epoch 5/40\n",
            "30/30 [==============================] - 0s 3ms/step - loss: 0.4831 - accuracy: 0.7946\n",
            "Epoch 6/40\n",
            "30/30 [==============================] - 0s 2ms/step - loss: 0.4627 - accuracy: 0.7946\n",
            "Epoch 7/40\n",
            "30/30 [==============================] - 0s 2ms/step - loss: 0.4390 - accuracy: 0.8102\n",
            "Epoch 8/40\n",
            "30/30 [==============================] - 0s 2ms/step - loss: 0.4396 - accuracy: 0.8060\n",
            "Epoch 9/40\n",
            "30/30 [==============================] - 0s 3ms/step - loss: 0.4131 - accuracy: 0.8259\n",
            "Epoch 10/40\n",
            "30/30 [==============================] - 0s 2ms/step - loss: 0.3992 - accuracy: 0.8352\n",
            "Epoch 11/40\n",
            "30/30 [==============================] - 0s 2ms/step - loss: 0.3918 - accuracy: 0.8238\n",
            "Epoch 12/40\n",
            "30/30 [==============================] - 0s 2ms/step - loss: 0.3776 - accuracy: 0.8509\n",
            "Epoch 13/40\n",
            "30/30 [==============================] - 0s 2ms/step - loss: 0.3709 - accuracy: 0.8467\n",
            "Epoch 14/40\n",
            "30/30 [==============================] - 0s 3ms/step - loss: 0.3496 - accuracy: 0.8540\n",
            "Epoch 15/40\n",
            "30/30 [==============================] - 0s 2ms/step - loss: 0.3576 - accuracy: 0.8592\n",
            "Epoch 16/40\n",
            "30/30 [==============================] - 0s 3ms/step - loss: 0.3319 - accuracy: 0.8697\n",
            "Epoch 17/40\n",
            "30/30 [==============================] - 0s 2ms/step - loss: 0.3368 - accuracy: 0.8686\n",
            "Epoch 18/40\n",
            "30/30 [==============================] - 0s 2ms/step - loss: 0.3393 - accuracy: 0.8592\n",
            "Epoch 19/40\n",
            "30/30 [==============================] - 0s 2ms/step - loss: 0.3369 - accuracy: 0.8707\n",
            "Epoch 20/40\n",
            "30/30 [==============================] - 0s 2ms/step - loss: 0.3180 - accuracy: 0.8843\n",
            "Epoch 21/40\n",
            "30/30 [==============================] - 0s 2ms/step - loss: 0.3083 - accuracy: 0.8790\n",
            "Epoch 22/40\n",
            "30/30 [==============================] - 0s 3ms/step - loss: 0.2944 - accuracy: 0.8947\n",
            "Epoch 23/40\n",
            "30/30 [==============================] - 0s 3ms/step - loss: 0.2823 - accuracy: 0.8989\n",
            "Epoch 24/40\n",
            "30/30 [==============================] - 0s 2ms/step - loss: 0.2792 - accuracy: 0.9041\n",
            "Epoch 25/40\n",
            "30/30 [==============================] - 0s 2ms/step - loss: 0.3125 - accuracy: 0.8624\n",
            "Epoch 26/40\n",
            "30/30 [==============================] - 0s 3ms/step - loss: 0.2678 - accuracy: 0.9041\n",
            "Epoch 27/40\n",
            "30/30 [==============================] - 0s 2ms/step - loss: 0.2604 - accuracy: 0.9082\n",
            "Epoch 28/40\n",
            "30/30 [==============================] - 0s 2ms/step - loss: 0.2610 - accuracy: 0.9124\n",
            "Epoch 29/40\n",
            "30/30 [==============================] - 0s 2ms/step - loss: 0.2807 - accuracy: 0.8936\n",
            "Epoch 30/40\n",
            "30/30 [==============================] - 0s 3ms/step - loss: 0.2472 - accuracy: 0.9208\n",
            "Epoch 31/40\n",
            "30/30 [==============================] - 0s 2ms/step - loss: 0.2513 - accuracy: 0.9114\n",
            "Epoch 32/40\n",
            "30/30 [==============================] - 0s 2ms/step - loss: 0.2380 - accuracy: 0.9260\n",
            "Epoch 33/40\n",
            "30/30 [==============================] - 0s 2ms/step - loss: 0.2254 - accuracy: 0.9218\n",
            "Epoch 34/40\n",
            "30/30 [==============================] - 0s 2ms/step - loss: 0.2259 - accuracy: 0.9218\n",
            "Epoch 35/40\n",
            "30/30 [==============================] - 0s 3ms/step - loss: 0.2273 - accuracy: 0.9135\n",
            "Epoch 36/40\n",
            "30/30 [==============================] - 0s 2ms/step - loss: 0.2121 - accuracy: 0.9270\n",
            "Epoch 37/40\n",
            "30/30 [==============================] - 0s 2ms/step - loss: 0.2337 - accuracy: 0.9155\n",
            "Epoch 38/40\n",
            "30/30 [==============================] - 0s 2ms/step - loss: 0.2345 - accuracy: 0.9072\n",
            "Epoch 39/40\n",
            "30/30 [==============================] - 0s 2ms/step - loss: 0.2081 - accuracy: 0.9270\n",
            "Epoch 40/40\n",
            "30/30 [==============================] - 0s 3ms/step - loss: 0.1928 - accuracy: 0.9281\n"
          ]
        },
        {
          "output_type": "execute_result",
          "data": {
            "text/plain": [
              "<keras.src.callbacks.History at 0x7d94d4b8ee60>"
            ]
          },
          "metadata": {},
          "execution_count": 9
        }
      ],
      "source": [
        "###### Do Not change.\n",
        "model.fit(train_data, train_labels, epochs=40)  #### the accuracy reported is from the training set.\n"
      ]
    },
    {
      "cell_type": "code",
      "source": [
        "######  Do not change.\n",
        "\n",
        "test_loss, test_acc = model.evaluate(test_data, test_labels)\n",
        "\n",
        "print('Test Accuracy:', test_acc, '\\n')"
      ],
      "metadata": {
        "id": "TNw6OD7xOffd",
        "colab": {
          "base_uri": "https://localhost:8080/"
        },
        "outputId": "38b989ca-a524-4212-9c1a-e49dee478980"
      },
      "execution_count": 10,
      "outputs": [
        {
          "output_type": "stream",
          "name": "stdout",
          "text": [
            "13/13 [==============================] - 0s 2ms/step - loss: 0.2149 - accuracy: 0.9126\n",
            "Test Accuracy: 0.9126213788986206 \n",
            "\n"
          ]
        }
      ]
    },
    {
      "cell_type": "markdown",
      "source": [
        "Start you investigation!"
      ],
      "metadata": {
        "id": "hKlM6ykLvVtq"
      }
    },
    {
      "cell_type": "code",
      "source": [
        "# Print weights of the first layer\n",
        "print(\"First Layer Weights:\")\n",
        "print(model.layers[0].get_weights()[0])"
      ],
      "metadata": {
        "id": "QAFmRmpOiUfY"
      },
      "execution_count": null,
      "outputs": []
    },
    {
      "cell_type": "code",
      "source": [
        "# Output of the first layer\n",
        "first_layer_output = model.layers[0](test_data).numpy()\n",
        "\n",
        "# Print first layer output for the first few samples\n",
        "print(\"First Layer Output:\")\n",
        "print(first_layer_output[:5])\n",
        "\n",
        "# Print weights of the second layer\n",
        "print(\"Second Layer Weights:\")\n",
        "print(model.layers[1].get_weights()[0])"
      ],
      "metadata": {
        "id": "dmTi5Y4V9vMu"
      },
      "execution_count": null,
      "outputs": []
    },
    {
      "cell_type": "code",
      "source": [
        "# Calculate the sum of weights for each neuron in the first layer\n",
        "sums = np.sum(np.abs(model.layers[0].get_weights()[0]), axis=1)\n",
        "print(\"Sums of the absolute value of the weights for each neuron in the first layer:\")\n",
        "print(sums)"
      ],
      "metadata": {
        "colab": {
          "base_uri": "https://localhost:8080/"
        },
        "id": "4cqYb77O9V9i",
        "outputId": "ea142277-41b6-49c0-b016-5d8c98547d6f"
      },
      "execution_count": 15,
      "outputs": [
        {
          "output_type": "stream",
          "name": "stdout",
          "text": [
            "Sums of the absolute value of the weights for each neuron in the first layer:\n",
            "[ 65.149315 148.78351   75.91169   93.90521   85.42402   65.65298\n",
            "  66.1466  ]\n"
          ]
        }
      ]
    },
    {
      "cell_type": "markdown",
      "source": [
        "From the above result, we figure out that the sum of the abosolute value of the weights for x0, x5, and x6 are around 65, which is lower than the ones for x1 to x4. This result shows that \"random data\" (x0, x5, x6) contributes less to the entire network comparing to \"real data\" (x1-x4)."
      ],
      "metadata": {
        "id": "KjDGx56X9woe"
      }
    }
  ]
}